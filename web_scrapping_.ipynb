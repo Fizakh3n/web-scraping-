{
  "nbformat": 4,
  "nbformat_minor": 0,
  "metadata": {
    "colab": {
      "provenance": []
    },
    "kernelspec": {
      "name": "python3",
      "display_name": "Python 3"
    },
    "language_info": {
      "name": "python"
    }
  },
  "cells": [
    {
      "cell_type": "code",
      "source": [
        "import requests\n",
        "from bs4 import BeautifulSoup\n",
        "import pandas as pd\n",
        "\n",
        "# URL of the book catalog page\n",
        "base_url = \"https://books.toscrape.com/\"\n",
        "books = []\n",
        "\n",
        "# Loop through multiple pages\n",
        "for page in range(1, 6):\n",
        "    response = requests.get(base_url.format(page))\n",
        "    soup = BeautifulSoup(response.text, 'html.parser')\n",
        "\n",
        "    for book in soup.find_all('article', class_='product_pod'):\n",
        "        # Extract book title\n",
        "        title = book.h3.a['title'].strip()\n",
        "\n",
        "        # Extract star rating\n",
        "        star_rating = book.find('p', class_='star-rating')['class'][1]\n",
        "\n",
        "        # Convert star rating to numeric value for better analysis\n",
        "        rating_mapping = {\n",
        "            'One': 1,\n",
        "            'Two': 2,\n",
        "            'Three': 3,\n",
        "            'Four': 4,\n",
        "            'Five': 5\n",
        "        }\n",
        "        numeric_rating = rating_mapping[star_rating]\n",
        "\n",
        "        # Extract book price\n",
        "        price = book.find('p', class_='price_color').text.strip()\n",
        "\n",
        "        # Append book data to the list\n",
        "        books.append({\n",
        "            'Title': title,\n",
        "            'Rating': numeric_rating,\n",
        "            'Price': price\n",
        "        })\n",
        "\n",
        "# Convert to DataFrame\n",
        "df = pd.DataFrame(books)\n",
        "\n",
        "# Display the DataFrame\n",
        "print(df)\n",
        "\n",
        "# Save to CSV\n",
        "df.to_csv('books_data.csv', index=False)\n",
        "\n"
      ],
      "metadata": {
        "colab": {
          "base_uri": "https://localhost:8080/"
        },
        "id": "JkGd_q2ec3Q7",
        "outputId": "74726547-1a37-422d-f33a-13eac9c67045"
      },
      "execution_count": null,
      "outputs": [
        {
          "output_type": "stream",
          "name": "stdout",
          "text": [
            "                                                Title  Rating    Price\n",
            "0                                A Light in the Attic       3  Â£51.77\n",
            "1                                  Tipping the Velvet       1  Â£53.74\n",
            "2                                          Soumission       1  Â£50.10\n",
            "3                                       Sharp Objects       4  Â£47.82\n",
            "4               Sapiens: A Brief History of Humankind       5  Â£54.23\n",
            "..                                                ...     ...      ...\n",
            "95  Our Band Could Be Your Life: Scenes from the A...       3  Â£57.25\n",
            "96                                               Olio       1  Â£23.88\n",
            "97  Mesaerion: The Best Science Fiction Stories 18...       1  Â£37.59\n",
            "98                       Libertarianism for Beginners       2  Â£51.33\n",
            "99                            It's Only the Himalayas       2  Â£45.17\n",
            "\n",
            "[100 rows x 3 columns]\n"
          ]
        }
      ]
    },
    {
      "cell_type": "code",
      "source": [
        "from google.colab import files\n",
        "\n",
        "# Download the CSV file\n",
        "files.download('books_data.csv')\n"
      ],
      "metadata": {
        "colab": {
          "base_uri": "https://localhost:8080/",
          "height": 17
        },
        "id": "FpC74s2anWe-",
        "outputId": "f03d8165-5ee2-4ba6-99d0-5da3f0044031"
      },
      "execution_count": null,
      "outputs": [
        {
          "output_type": "display_data",
          "data": {
            "text/plain": [
              "<IPython.core.display.Javascript object>"
            ],
            "application/javascript": [
              "\n",
              "    async function download(id, filename, size) {\n",
              "      if (!google.colab.kernel.accessAllowed) {\n",
              "        return;\n",
              "      }\n",
              "      const div = document.createElement('div');\n",
              "      const label = document.createElement('label');\n",
              "      label.textContent = `Downloading \"${filename}\": `;\n",
              "      div.appendChild(label);\n",
              "      const progress = document.createElement('progress');\n",
              "      progress.max = size;\n",
              "      div.appendChild(progress);\n",
              "      document.body.appendChild(div);\n",
              "\n",
              "      const buffers = [];\n",
              "      let downloaded = 0;\n",
              "\n",
              "      const channel = await google.colab.kernel.comms.open(id);\n",
              "      // Send a message to notify the kernel that we're ready.\n",
              "      channel.send({})\n",
              "\n",
              "      for await (const message of channel.messages) {\n",
              "        // Send a message to notify the kernel that we're ready.\n",
              "        channel.send({})\n",
              "        if (message.buffers) {\n",
              "          for (const buffer of message.buffers) {\n",
              "            buffers.push(buffer);\n",
              "            downloaded += buffer.byteLength;\n",
              "            progress.value = downloaded;\n",
              "          }\n",
              "        }\n",
              "      }\n",
              "      const blob = new Blob(buffers, {type: 'application/binary'});\n",
              "      const a = document.createElement('a');\n",
              "      a.href = window.URL.createObjectURL(blob);\n",
              "      a.download = filename;\n",
              "      div.appendChild(a);\n",
              "      a.click();\n",
              "      div.remove();\n",
              "    }\n",
              "  "
            ]
          },
          "metadata": {}
        },
        {
          "output_type": "display_data",
          "data": {
            "text/plain": [
              "<IPython.core.display.Javascript object>"
            ],
            "application/javascript": [
              "download(\"download_754eae6d-c1be-426d-baca-ff3c34176324\", \"books_data.csv\", 4884)"
            ]
          },
          "metadata": {}
        }
      ]
    },
    {
      "cell_type": "code",
      "source": [],
      "metadata": {
        "id": "ynDbN5G8nuRk"
      },
      "execution_count": null,
      "outputs": []
    }
  ]
}